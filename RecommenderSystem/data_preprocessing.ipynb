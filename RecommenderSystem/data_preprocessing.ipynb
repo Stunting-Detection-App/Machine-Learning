{
 "cells": [
  {
   "cell_type": "markdown",
   "metadata": {},
   "source": [
    "# Dataset Processing For Food Recommendation"
   ]
  },
  {
   "cell_type": "markdown",
   "metadata": {},
   "source": [
    "## Install Dependencies"
   ]
  },
  {
   "cell_type": "code",
   "execution_count": null,
   "metadata": {},
   "outputs": [],
   "source": [
    "%pip install numpy\n",
    "%pip install pandas"
   ]
  },
  {
   "cell_type": "markdown",
   "metadata": {},
   "source": [
    "## Import Dependencies"
   ]
  },
  {
   "cell_type": "code",
   "execution_count": 1,
   "metadata": {},
   "outputs": [],
   "source": [
    "import os\n",
    "import numpy as np\n",
    "import pandas as pd"
   ]
  },
  {
   "cell_type": "markdown",
   "metadata": {},
   "source": [
    "## Load Dataset"
   ]
  },
  {
   "cell_type": "code",
   "execution_count": 2,
   "metadata": {},
   "outputs": [
    {
     "data": {
      "text/html": [
       "<div>\n",
       "<style scoped>\n",
       "    .dataframe tbody tr th:only-of-type {\n",
       "        vertical-align: middle;\n",
       "    }\n",
       "\n",
       "    .dataframe tbody tr th {\n",
       "        vertical-align: top;\n",
       "    }\n",
       "\n",
       "    .dataframe thead th {\n",
       "        text-align: right;\n",
       "    }\n",
       "</style>\n",
       "<table border=\"1\" class=\"dataframe\">\n",
       "  <thead>\n",
       "    <tr style=\"text-align: right;\">\n",
       "      <th></th>\n",
       "      <th>Food</th>\n",
       "      <th>Category</th>\n",
       "      <th>Serving Size (g)</th>\n",
       "      <th>Calories</th>\n",
       "      <th>Protein (g)</th>\n",
       "      <th>Fats (g)</th>\n",
       "      <th>Vitamin A (IU)</th>\n",
       "      <th>Vitamin C (mg)</th>\n",
       "      <th>Vitamin D (IU)</th>\n",
       "      <th>Vitamin E (mg)</th>\n",
       "      <th>Vitamin B1 (mg)</th>\n",
       "      <th>Vitamin B2 (mg)</th>\n",
       "    </tr>\n",
       "  </thead>\n",
       "  <tbody>\n",
       "    <tr>\n",
       "      <th>0</th>\n",
       "      <td>Chicken Breast</td>\n",
       "      <td>Meat</td>\n",
       "      <td>100</td>\n",
       "      <td>165</td>\n",
       "      <td>31.0</td>\n",
       "      <td>3.6</td>\n",
       "      <td>0</td>\n",
       "      <td>0</td>\n",
       "      <td>0.0</td>\n",
       "      <td>0.0</td>\n",
       "      <td>7.0</td>\n",
       "      <td>6.0</td>\n",
       "    </tr>\n",
       "    <tr>\n",
       "      <th>1</th>\n",
       "      <td>Salmon</td>\n",
       "      <td>Fish</td>\n",
       "      <td>100</td>\n",
       "      <td>206</td>\n",
       "      <td>22.0</td>\n",
       "      <td>12.0</td>\n",
       "      <td>4</td>\n",
       "      <td>0</td>\n",
       "      <td>91.0</td>\n",
       "      <td>1.0</td>\n",
       "      <td>5.0</td>\n",
       "      <td>22.0</td>\n",
       "    </tr>\n",
       "    <tr>\n",
       "      <th>2</th>\n",
       "      <td>Brocoli</td>\n",
       "      <td>Vegetables</td>\n",
       "      <td>100</td>\n",
       "      <td>55</td>\n",
       "      <td>4.0</td>\n",
       "      <td>0.6</td>\n",
       "      <td>12</td>\n",
       "      <td>135</td>\n",
       "      <td>0.0</td>\n",
       "      <td>4.0</td>\n",
       "      <td>8.0</td>\n",
       "      <td>7.0</td>\n",
       "    </tr>\n",
       "    <tr>\n",
       "      <th>3</th>\n",
       "      <td>Carrots</td>\n",
       "      <td>Vegetables</td>\n",
       "      <td>100</td>\n",
       "      <td>41</td>\n",
       "      <td>0.9</td>\n",
       "      <td>0.2</td>\n",
       "      <td>334</td>\n",
       "      <td>9</td>\n",
       "      <td>0.0</td>\n",
       "      <td>2.0</td>\n",
       "      <td>4.0</td>\n",
       "      <td>3.0</td>\n",
       "    </tr>\n",
       "    <tr>\n",
       "      <th>4</th>\n",
       "      <td>Apples</td>\n",
       "      <td>Fruits</td>\n",
       "      <td>100</td>\n",
       "      <td>52</td>\n",
       "      <td>0.3</td>\n",
       "      <td>0.2</td>\n",
       "      <td>1</td>\n",
       "      <td>8</td>\n",
       "      <td>0.0</td>\n",
       "      <td>1.0</td>\n",
       "      <td>1.0</td>\n",
       "      <td>1.0</td>\n",
       "    </tr>\n",
       "  </tbody>\n",
       "</table>\n",
       "</div>"
      ],
      "text/plain": [
       "             Food    Category  Serving Size (g)  Calories  Protein (g)  \\\n",
       "0  Chicken Breast        Meat               100       165         31.0   \n",
       "1          Salmon        Fish               100       206         22.0   \n",
       "2         Brocoli  Vegetables               100        55          4.0   \n",
       "3         Carrots  Vegetables               100        41          0.9   \n",
       "4          Apples      Fruits               100        52          0.3   \n",
       "\n",
       "   Fats (g)  Vitamin A (IU)  Vitamin C (mg)  Vitamin D (IU)  Vitamin E (mg)  \\\n",
       "0       3.6               0               0             0.0             0.0   \n",
       "1      12.0               4               0            91.0             1.0   \n",
       "2       0.6              12             135             0.0             4.0   \n",
       "3       0.2             334               9             0.0             2.0   \n",
       "4       0.2               1               8             0.0             1.0   \n",
       "\n",
       "   Vitamin B1 (mg)  Vitamin B2 (mg)  \n",
       "0              7.0              6.0  \n",
       "1              5.0             22.0  \n",
       "2              8.0              7.0  \n",
       "3              4.0              3.0  \n",
       "4              1.0              1.0  "
      ]
     },
     "execution_count": 2,
     "metadata": {},
     "output_type": "execute_result"
    }
   ],
   "source": [
    "# Variable\n",
    "fileName = 'nutritions.csv'\n",
    "\n",
    "# Do not change\n",
    "filePath = os.path.join(os.getcwd(), 'data', fileName)\n",
    "data = pd.read_csv(filePath)\n",
    "data.head()"
   ]
  },
  {
   "cell_type": "markdown",
   "metadata": {},
   "source": [
    "## Dataset Count"
   ]
  },
  {
   "cell_type": "code",
   "execution_count": 4,
   "metadata": {},
   "outputs": [
    {
     "data": {
      "text/plain": [
       "(41, 12)"
      ]
     },
     "execution_count": 4,
     "metadata": {},
     "output_type": "execute_result"
    }
   ],
   "source": [
    "# Do not change\n",
    "data.shape"
   ]
  },
  {
   "cell_type": "markdown",
   "metadata": {},
   "source": [
    "## Check For Missing Value"
   ]
  },
  {
   "cell_type": "code",
   "execution_count": 3,
   "metadata": {},
   "outputs": [
    {
     "data": {
      "text/plain": [
       "Food                0\n",
       "Category            0\n",
       "Serving Size (g)    0\n",
       "Calories            0\n",
       "Protein (g)         0\n",
       "Fats (g)            0\n",
       "Vitamin A (IU)      0\n",
       "Vitamin C (mg)      0\n",
       "Vitamin D (IU)      0\n",
       "Vitamin E (mg)      0\n",
       "Vitamin B1 (mg)     0\n",
       "Vitamin B2 (mg)     0\n",
       "dtype: int64"
      ]
     },
     "execution_count": 3,
     "metadata": {},
     "output_type": "execute_result"
    }
   ],
   "source": [
    "# Do not change\n",
    "data.isnull().sum()"
   ]
  },
  {
   "cell_type": "markdown",
   "metadata": {},
   "source": [
    "## Add A New Column\n",
    "\n",
    "Based on these rules:\n",
    "- Severely Stunting: High-calorie, protein-rich, and micronutrient-dense foods.\n",
    "- Stunting: Balanced nutrition with emphasis on growth-promoting nutrients.\n",
    "- Normal: Maintenance-focused diet.\n",
    "- High: Energy-dense foods if needed.\n",
    "\n",
    "We need to group the food using these rules:\n",
    "- Food suitable for Severely Stunting: Foods with Calories ≥ 200 and Protein ≥ 20g.\n",
    "- Food suitable for Stunting: Foods with Calories ≥ 150 and Protein ≥ 10g.\n",
    "- Food suitable for Normal: Foods with 100 ≤ Calories < 150.\n",
    "- Food suitable for High: Foods that do not meet the above criteria."
   ]
  },
  {
   "cell_type": "code",
   "execution_count": 5,
   "metadata": {},
   "outputs": [],
   "source": [
    "# Do not change\n",
    "def classify_nutrition(row):\n",
    "    if row['Calories'] >= 200 and row['Protein (g)'] >= 20:\n",
    "        return 0\n",
    "    elif row['Calories'] >= 150 and row['Protein (g)'] >= 10:\n",
    "        return 1\n",
    "    elif 100 <= row['Calories'] < 150:\n",
    "        return 2\n",
    "    else:\n",
    "        return 3\n",
    "\n",
    "data['Classification'] = data.apply(classify_nutrition, axis=1)"
   ]
  },
  {
   "cell_type": "markdown",
   "metadata": {},
   "source": [
    "## Check The New Dataset"
   ]
  },
  {
   "cell_type": "code",
   "execution_count": 6,
   "metadata": {},
   "outputs": [
    {
     "data": {
      "text/html": [
       "<div>\n",
       "<style scoped>\n",
       "    .dataframe tbody tr th:only-of-type {\n",
       "        vertical-align: middle;\n",
       "    }\n",
       "\n",
       "    .dataframe tbody tr th {\n",
       "        vertical-align: top;\n",
       "    }\n",
       "\n",
       "    .dataframe thead th {\n",
       "        text-align: right;\n",
       "    }\n",
       "</style>\n",
       "<table border=\"1\" class=\"dataframe\">\n",
       "  <thead>\n",
       "    <tr style=\"text-align: right;\">\n",
       "      <th></th>\n",
       "      <th>Food</th>\n",
       "      <th>Category</th>\n",
       "      <th>Serving Size (g)</th>\n",
       "      <th>Calories</th>\n",
       "      <th>Protein (g)</th>\n",
       "      <th>Fats (g)</th>\n",
       "      <th>Vitamin A (IU)</th>\n",
       "      <th>Vitamin C (mg)</th>\n",
       "      <th>Vitamin D (IU)</th>\n",
       "      <th>Vitamin E (mg)</th>\n",
       "      <th>Vitamin B1 (mg)</th>\n",
       "      <th>Vitamin B2 (mg)</th>\n",
       "      <th>Classification</th>\n",
       "    </tr>\n",
       "  </thead>\n",
       "  <tbody>\n",
       "    <tr>\n",
       "      <th>0</th>\n",
       "      <td>Chicken Breast</td>\n",
       "      <td>Meat</td>\n",
       "      <td>100</td>\n",
       "      <td>165</td>\n",
       "      <td>31.0</td>\n",
       "      <td>3.6</td>\n",
       "      <td>0</td>\n",
       "      <td>0</td>\n",
       "      <td>0.0</td>\n",
       "      <td>0.0</td>\n",
       "      <td>7.0</td>\n",
       "      <td>6.0</td>\n",
       "      <td>1</td>\n",
       "    </tr>\n",
       "    <tr>\n",
       "      <th>1</th>\n",
       "      <td>Salmon</td>\n",
       "      <td>Fish</td>\n",
       "      <td>100</td>\n",
       "      <td>206</td>\n",
       "      <td>22.0</td>\n",
       "      <td>12.0</td>\n",
       "      <td>4</td>\n",
       "      <td>0</td>\n",
       "      <td>91.0</td>\n",
       "      <td>1.0</td>\n",
       "      <td>5.0</td>\n",
       "      <td>22.0</td>\n",
       "      <td>0</td>\n",
       "    </tr>\n",
       "    <tr>\n",
       "      <th>2</th>\n",
       "      <td>Brocoli</td>\n",
       "      <td>Vegetables</td>\n",
       "      <td>100</td>\n",
       "      <td>55</td>\n",
       "      <td>4.0</td>\n",
       "      <td>0.6</td>\n",
       "      <td>12</td>\n",
       "      <td>135</td>\n",
       "      <td>0.0</td>\n",
       "      <td>4.0</td>\n",
       "      <td>8.0</td>\n",
       "      <td>7.0</td>\n",
       "      <td>3</td>\n",
       "    </tr>\n",
       "    <tr>\n",
       "      <th>3</th>\n",
       "      <td>Carrots</td>\n",
       "      <td>Vegetables</td>\n",
       "      <td>100</td>\n",
       "      <td>41</td>\n",
       "      <td>0.9</td>\n",
       "      <td>0.2</td>\n",
       "      <td>334</td>\n",
       "      <td>9</td>\n",
       "      <td>0.0</td>\n",
       "      <td>2.0</td>\n",
       "      <td>4.0</td>\n",
       "      <td>3.0</td>\n",
       "      <td>3</td>\n",
       "    </tr>\n",
       "    <tr>\n",
       "      <th>4</th>\n",
       "      <td>Apples</td>\n",
       "      <td>Fruits</td>\n",
       "      <td>100</td>\n",
       "      <td>52</td>\n",
       "      <td>0.3</td>\n",
       "      <td>0.2</td>\n",
       "      <td>1</td>\n",
       "      <td>8</td>\n",
       "      <td>0.0</td>\n",
       "      <td>1.0</td>\n",
       "      <td>1.0</td>\n",
       "      <td>1.0</td>\n",
       "      <td>3</td>\n",
       "    </tr>\n",
       "  </tbody>\n",
       "</table>\n",
       "</div>"
      ],
      "text/plain": [
       "             Food    Category  Serving Size (g)  Calories  Protein (g)  \\\n",
       "0  Chicken Breast        Meat               100       165         31.0   \n",
       "1          Salmon        Fish               100       206         22.0   \n",
       "2         Brocoli  Vegetables               100        55          4.0   \n",
       "3         Carrots  Vegetables               100        41          0.9   \n",
       "4          Apples      Fruits               100        52          0.3   \n",
       "\n",
       "   Fats (g)  Vitamin A (IU)  Vitamin C (mg)  Vitamin D (IU)  Vitamin E (mg)  \\\n",
       "0       3.6               0               0             0.0             0.0   \n",
       "1      12.0               4               0            91.0             1.0   \n",
       "2       0.6              12             135             0.0             4.0   \n",
       "3       0.2             334               9             0.0             2.0   \n",
       "4       0.2               1               8             0.0             1.0   \n",
       "\n",
       "   Vitamin B1 (mg)  Vitamin B2 (mg)  Classification  \n",
       "0              7.0              6.0               1  \n",
       "1              5.0             22.0               0  \n",
       "2              8.0              7.0               3  \n",
       "3              4.0              3.0               3  \n",
       "4              1.0              1.0               3  "
      ]
     },
     "execution_count": 6,
     "metadata": {},
     "output_type": "execute_result"
    }
   ],
   "source": [
    "# Do not change\n",
    "data.head()"
   ]
  },
  {
   "cell_type": "markdown",
   "metadata": {},
   "source": [
    "## Save The Dataset"
   ]
  },
  {
   "cell_type": "code",
   "execution_count": 7,
   "metadata": {},
   "outputs": [],
   "source": [
    "# Do not change\n",
    "outputDir = os.path.join(os.getcwd(), 'data')\n",
    "os.makedirs(outputDir, exist_ok=True)\n",
    "\n",
    "data.to_csv(os.path.join(outputDir, 'final.csv'), index=False)"
   ]
  }
 ],
 "metadata": {
  "kernelspec": {
   "display_name": "Python 3",
   "language": "python",
   "name": "python3"
  },
  "language_info": {
   "codemirror_mode": {
    "name": "ipython",
    "version": 3
   },
   "file_extension": ".py",
   "mimetype": "text/x-python",
   "name": "python",
   "nbconvert_exporter": "python",
   "pygments_lexer": "ipython3",
   "version": "3.12.6"
  }
 },
 "nbformat": 4,
 "nbformat_minor": 2
}
